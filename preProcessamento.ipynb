
{
 "cells": [
  {
   "cell_type": "code",
   "execution_count": 5,
   "metadata": {},
   "outputs": [
    {
     "data": {
      "text/html": [
       "<div>\n",
       "<style scoped>\n",
       "    .dataframe tbody tr th:only-of-type {\n",
       "        vertical-align: middle;\n",
       "    }\n",
       "\n",
       "    .dataframe tbody tr th {\n",
       "        vertical-align: top;\n",
       "    }\n",
       "\n",
       "    .dataframe thead th {\n",
       "        text-align: right;\n",
       "    }\n",
       "</style>\n",
       "<table border=\"1\" class=\"dataframe\">\n",
       "  <thead>\n",
       "    <tr style=\"text-align: right;\">\n",
       "      <th></th>\n",
       "      <th>ID_PACIENTE</th>\n",
       "      <th>SEQ</th>\n",
       "      <th>TEXTO_ATENDIMENTO_ANONIMIZADO</th>\n",
       "    </tr>\n",
       "  </thead>\n",
       "  <tbody>\n",
       "    <tr>\n",
       "      <th>0</th>\n",
       "      <td>10000012</td>\n",
       "      <td>8</td>\n",
       "      <td>&lt;IDENTIFICACAO DO PACIENTE: 10000012&gt;\\n&lt;SEQUEN...</td>\n",
       "    </tr>\n",
       "    <tr>\n",
       "      <th>1</th>\n",
       "      <td>10000121</td>\n",
       "      <td>15</td>\n",
       "      <td>&lt;IDENTIFICACAO DO PACIENTE: 10000121&gt;\\n&lt;SEQUEN...</td>\n",
       "    </tr>\n",
       "    <tr>\n",
       "      <th>2</th>\n",
       "      <td>10000132</td>\n",
       "      <td>7</td>\n",
       "      <td>&lt;IDENTIFICACAO DO PACIENTE: 10000132&gt;\\n&lt;SEQUEN...</td>\n",
       "    </tr>\n",
       "    <tr>\n",
       "      <th>3</th>\n",
       "      <td>10000181</td>\n",
       "      <td>21</td>\n",
       "      <td>&lt;IDENTIFICACAO DO PACIENTE: 10000181&gt;\\n&lt;SEQUEN...</td>\n",
       "    </tr>\n",
       "    <tr>\n",
       "      <th>4</th>\n",
       "      <td>10000227</td>\n",
       "      <td>11</td>\n",
       "      <td>&lt;IDENTIFICACAO DO PACIENTE: 10000227&gt;\\n&lt;SEQUEN...</td>\n",
       "    </tr>\n",
       "  </tbody>\n",
       "</table>\n",
       "</div>"
      ],
      "text/plain": [
       "   ID_PACIENTE  SEQ                      TEXTO_ATENDIMENTO_ANONIMIZADO\n",
       "0     10000012    8  <IDENTIFICACAO DO PACIENTE: 10000012>\\n<SEQUEN...\n",
       "1     10000121   15  <IDENTIFICACAO DO PACIENTE: 10000121>\\n<SEQUEN...\n",
       "2     10000132    7  <IDENTIFICACAO DO PACIENTE: 10000132>\\n<SEQUEN...\n",
       "3     10000181   21  <IDENTIFICACAO DO PACIENTE: 10000181>\\n<SEQUEN...\n",
       "4     10000227   11  <IDENTIFICACAO DO PACIENTE: 10000227>\\n<SEQUEN..."
      ]
     },
     "execution_count": 5,
     "metadata": {},
     "output_type": "execute_result"
    }
   ],
   "source": [
    "import pandas as pd\n",
    "import re\n",
    "\n",
    "import numpy as np# read csv data\n",
    "data = pd.read_csv(r'C:\\Users\\lisat\\OneDrive\\jupyter notebook\\INCOR\\anotacao_prata\\dataset_incor_300_2.csv', encoding='latin1')\n",
    "#data = pd.read_csv(r'C:\\Users\\lisat\\OneDrive\\jupyter notebook\\INCOR\\anotacao_prata\\dataset_incor_300_2.csv')\n",
    "data.head()"
   ]
  },
  {
   "cell_type": "code",
   "execution_count": 8,
   "metadata": {},
   "outputs": [
    {
     "name": "stdout",
     "output_type": "stream",
     "text": [
      "<IDENTIFICACAO DO PACIENTE: 10000012>. <SEQUENCIA DO EVENTO: 8>. <INTERVALO EM DIAS ENTRE OS EVENTOS: 385>. UNHIP.  80 anos. HD: HAS Dx aos 36 anos. DM2 NID. DLP. Em uso de: Metformina 500mg 4xd. Gliclazida 60mg 1xd. Atenolol 50 mg/d. enalapril 20mg/d . AAS 100mg 1xd. HCTZ 25mg 1xd. Sinvastatina 20 mg 1xd. Atual: Paciente mantém desconfoto torácico atípico associado a queimação no esofago, refere dispnéia aos esforços como subir escada e ladeira. refere acompanhamento com a endócrino e refere que após coleta de exame aqui foram ajustadas as doses. . Ao exame fisico: PA 150x80 mmHg (nao fez uso de medicações hoje novamente!) , PA 140X80 mmHg FC: 64bpm . LOTE BEG EUPNEICA CHAAA SEM EDEMA. AR MVF S RA. ACV RC R 2T BNF SEM SOPROS. ABDOME: FLACIDO RH+ SEM VISCEROMEGALIAS. MMII SEM EDEMA PANTURRILHAS LIVRES. PULSO PERIFERICOS PALPAVEIS CHEIOS E RITMICOS. Exames: ECOTT (24/09/14): AE 32, S 10, PP 9, VE 44/30, FE 60%, Massa 78, Remodelamento concêntrico do ventrículo esquerdo. Disfunção diastólica do ventrículo esquerdo grau 1. Insuficiência tricúspide de grau discreto. CINTILO (set/2017): Estudo de Perfusão Miocárdica/ Função Ventricular sem alterações significativas. CD: deixo enalapril 10mg de 12/12h . oriento controle de PA. retorno em 1 ano. Solicitei: ACIDO URICO; COLESTEROL (SANGUE); CPK ( CREATINOFOSFOQUINASE ); CREATININA / SORO; GLICOSE / SORO; TGO (TRANSAMINASE GLUTAMICO OXALACETICA); TGP ( TRANSAMINASE GLUTAMICO PIRUVICA ); HDL COLESTEROL; HEMOGRAMA COMPLETO + CONTAGEM DE PLAQUETAS; LDL COLESTEROL; POTASSIO / SORO; SODIO / SORO; T4 LIVRE (TETRAIODOTIRONINA LIVRE); URINA TIPO I; TRIGLICERIDES (SANGUE); TSH (HORMONIO TIREOESTIMULANTE); UREIA / SORO.\n"
     ]
    }
   ],
   "source": [
    "f = open(\"demofile.txt\", \"a\")\n",
    "\n",
    "\n",
    "for texto in data.TEXTO_ATENDIMENTO_ANONIMIZADO:\n",
    "    #data.TEXTO_ATENDIMENTO_ANONIMIZADO\n",
    "    #print(texto)\n",
    "    textoProcessado = texto.replace('#','')\n",
    "    textoProcessado = textoProcessado.replace('\\n','. ')\n",
    "    textoProcessado = textoProcessado.replace('. .','.')\n",
    "    textoProcessado = textoProcessado.replace('..','.')\n",
    "    textoProcessado = textoProcessado.replace(':.',':')\n",
    "    textoProcessado = textoProcessado.replace(': .',':')\n",
    "    textoProcessado = textoProcessado.replace('-','')\n",
    "    textoProcessado = textoProcessado.replace('//',',')\n",
    "    textoProcessado = textoProcessado.replace('  ',' ')\n",
    "    \n",
    "    # expressao regular para subtituir \"<SEQUENCIA DO EVENTO: 8>.\" por nada\n",
    "    # expressao regular para subtituir \"<IDENTIFICACAO DO PACIENTE: [0-9]>. \" por nada\n",
    "    # expressao regular para subtituir \"<INTERVALO EM DIAS ENTRE OS EVENTOS: 385>. \" por nada\n",
    "    #textoProcessado = re.sub(\"<IDENTIFICACAO DO PACIENTE: [0-9]>\", \"\", textoProcessado)\n",
    "    \n",
    "    print(textoProcessado)\n",
    "    # ' ' + grava o texto no arquivo.\n",
    "    break\n",
    "    \n",
    "# fechar arquivo"
   ]
  },
  {
   "cell_type": "code",
   "execution_count": null,
   "metadata": {},
   "outputs": [],
   "source": []
  }
 ],
 "metadata": {
  "kernelspec": {
   "display_name": "Python 3",
   "language": "python",
   "name": "python3"
  },
  "language_info": {
   "codemirror_mode": {
    "name": "ipython",
    "version": 3
   },
   "file_extension": ".py",
   "mimetype": "text/x-python",
   "name": "python",
   "nbconvert_exporter": "python",
   "pygments_lexer": "ipython3",
   "version": "3.8.5"
  }
 },
 "nbformat": 4,
 "nbformat_minor": 4
}
