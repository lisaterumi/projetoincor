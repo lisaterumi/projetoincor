{
 "cells": [
  {
   "cell_type": "code",
   "execution_count": 1,
   "metadata": {},
   "outputs": [
    {
     "data": {
      "text/html": [
       "<div>\n",
       "<style scoped>\n",
       "    .dataframe tbody tr th:only-of-type {\n",
       "        vertical-align: middle;\n",
       "    }\n",
       "\n",
       "    .dataframe tbody tr th {\n",
       "        vertical-align: top;\n",
       "    }\n",
       "\n",
       "    .dataframe thead th {\n",
       "        text-align: right;\n",
       "    }\n",
       "</style>\n",
       "<table border=\"1\" class=\"dataframe\">\n",
       "  <thead>\n",
       "    <tr style=\"text-align: right;\">\n",
       "      <th></th>\n",
       "      <th>ID_PACIENTE</th>\n",
       "      <th>SEQ</th>\n",
       "      <th>TEXTO_ATENDIMENTO_ANONIMIZADO</th>\n",
       "    </tr>\n",
       "  </thead>\n",
       "  <tbody>\n",
       "    <tr>\n",
       "      <th>0</th>\n",
       "      <td>10000012</td>\n",
       "      <td>8</td>\n",
       "      <td>&lt;IDENTIFICACAO DO PACIENTE: 10000012&gt;\\n&lt;SEQUEN...</td>\n",
       "    </tr>\n",
       "    <tr>\n",
       "      <th>1</th>\n",
       "      <td>10000121</td>\n",
       "      <td>15</td>\n",
       "      <td>&lt;IDENTIFICACAO DO PACIENTE: 10000121&gt;\\n&lt;SEQUEN...</td>\n",
       "    </tr>\n",
       "    <tr>\n",
       "      <th>2</th>\n",
       "      <td>10000132</td>\n",
       "      <td>7</td>\n",
       "      <td>&lt;IDENTIFICACAO DO PACIENTE: 10000132&gt;\\n&lt;SEQUEN...</td>\n",
       "    </tr>\n",
       "    <tr>\n",
       "      <th>3</th>\n",
       "      <td>10000181</td>\n",
       "      <td>21</td>\n",
       "      <td>&lt;IDENTIFICACAO DO PACIENTE: 10000181&gt;\\n&lt;SEQUEN...</td>\n",
       "    </tr>\n",
       "    <tr>\n",
       "      <th>4</th>\n",
       "      <td>10000227</td>\n",
       "      <td>11</td>\n",
       "      <td>&lt;IDENTIFICACAO DO PACIENTE: 10000227&gt;\\n&lt;SEQUEN...</td>\n",
       "    </tr>\n",
       "  </tbody>\n",
       "</table>\n",
       "</div>"
      ],
      "text/plain": [
       "   ID_PACIENTE  SEQ                      TEXTO_ATENDIMENTO_ANONIMIZADO\n",
       "0     10000012    8  <IDENTIFICACAO DO PACIENTE: 10000012>\\n<SEQUEN...\n",
       "1     10000121   15  <IDENTIFICACAO DO PACIENTE: 10000121>\\n<SEQUEN...\n",
       "2     10000132    7  <IDENTIFICACAO DO PACIENTE: 10000132>\\n<SEQUEN...\n",
       "3     10000181   21  <IDENTIFICACAO DO PACIENTE: 10000181>\\n<SEQUEN...\n",
       "4     10000227   11  <IDENTIFICACAO DO PACIENTE: 10000227>\\n<SEQUEN..."
      ]
     },
     "execution_count": 1,
     "metadata": {},
     "output_type": "execute_result"
    }
   ],
   "source": [
    "import pandas as pd\n",
    "import re\n",
    "\n",
    "import numpy as np# read csv data\n",
    "data = pd.read_csv(r'C:\\Users\\lisat\\OneDrive\\jupyter notebook\\INCOR\\anotacao_prata\\dataset_incor_300_2.csv', encoding='latin1')\n",
    "#data = pd.read_csv(r'C:\\Users\\lisat\\OneDrive\\jupyter notebook\\INCOR\\anotacao_prata\\dataset_incor_300_2.csv')\n",
    "data.head()"
   ]
  },
  {
   "cell_type": "code",
   "execution_count": 37,
   "metadata": {},
   "outputs": [
    {
     "name": "stdout",
     "output_type": "stream",
     "text": [
      "\n",
      "Exames:  ECOTT (24/09/14): AE 32, S 10, PP 9, VE 44/30, FE 60%, Massa 78, Remodelamento concêntrico do ventrículo esquerdo. Disfunção diastólica do ventrículo esquerdo grau 1. Insuficiência tricúspide de grau discreto. CINTILO (set/2017): Estudo de Perfusão Miocárdica/ Função Ventricular sem alterações significativas\n",
      "\n"
     ]
    }
   ],
   "source": [
    "'''\n",
    "textoProcessado = \"\"\"\n",
    "Exames: \n",
    "- ECOTT (24/09/14): AE 32, S 10, PP 9, VE 44/30, FE 60%, Massa 78, Remodelamento concêntrico do ventrículo esquerdo. Disfunção diastólica do ventrículo esquerdo grau 1. Insuficiência tricúspide de grau discreto.\n",
    "- CINTILO (set/2017): Estudo de Perfusão Miocárdica/ Função Ventricular sem alterações significativas\n",
    "\"\"\"\n",
    "#trocando tracinho do começo por nada\n",
    "#textoProcessado =re.sub(\"^-{1,}\" , \"\", textoProcessado)\n",
    "textoProcessado =re.sub(\"\\n-{1,}\" , \"\", textoProcessado)\n",
    "print(textoProcessado)\n",
    "'''"
   ]
  },
  {
   "cell_type": "code",
   "execution_count": 54,
   "metadata": {},
   "outputs": [],
   "source": [
    "def processarTexto(texto):\n",
    "    textoProcessado = texto.replace('#','')\n",
    "\n",
    "    #trocando tracinho do começo por nada\n",
    "    #textoProcessado =re.sub(\"^-{1,}\" , \"\", textoProcessado)\n",
    "    textoProcessado =re.sub(\"\\n-{1,}\" , \"\\n\", textoProcessado)\n",
    "    \n",
    "    textoProcessado = textoProcessado.replace('--> ',' - ')\n",
    "    textoProcessado = textoProcessado.replace('--','-')\n",
    "    \n",
    "    textoProcessado = textoProcessado.replace('\\n\\n','. ')\n",
    "    textoProcessado = textoProcessado.replace('\\n','; ')\n",
    "    textoProcessado = textoProcessado.replace('*',' ')\n",
    "    textoProcessado = textoProcessado.replace('<','')\n",
    "    textoProcessado = textoProcessado.replace('>','')\n",
    "    textoProcessado = textoProcessado.replace('  ',' ')\n",
    "    textoProcessado = textoProcessado.replace('. .','.')\n",
    "    textoProcessado = textoProcessado.replace(' .','.')\n",
    "    textoProcessado = textoProcessado.replace('..','.')\n",
    "    textoProcessado = textoProcessado.replace(':.',':')\n",
    "    textoProcessado = textoProcessado.replace(':;',':')\n",
    "    textoProcessado = textoProcessado.replace(': ;',':')\n",
    "    textoProcessado = textoProcessado.replace('.;','.')\n",
    "    textoProcessado = textoProcessado.replace('. ;','.')\n",
    "    textoProcessado = textoProcessado.replace(': .',':')\n",
    "    #textoProcessado = textoProcessado.replace('-',' ')\n",
    "    \n",
    "    textoProcessado = textoProcessado.replace('//',',')\n",
    "    textoProcessado = textoProcessado.replace('  ',' ')\n",
    "    textoProcessado = textoProcessado.replace(' ;',';')\n",
    "    textoProcessado = textoProcessado.replace(' ,',';')\n",
    "    \n",
    "    #trocando dois ou mais espaços em branco por um só\n",
    "    textoProcessado =re.sub(\"\\s\\s+\" , \" \", textoProcessado)\n",
    "\n",
    "    return textoProcessado\n",
    "    "
   ]
  },
  {
   "cell_type": "code",
   "execution_count": 55,
   "metadata": {},
   "outputs": [],
   "source": [
    "file = open(\"textoProcessado.txt\", \"w+\") # Abre o arquivo de texto\n",
    "\n",
    "i=0\n",
    "for texto in data.TEXTO_ATENDIMENTO_ANONIMIZADO:\n",
    "    textoProcessado = processarTexto(texto)\n",
    "    i=i+1\n",
    "\n",
    "    if i>5:\n",
    "        break\n",
    "    file.write(textoProcessado)\n",
    "    file.write('\\n')\n",
    "\n",
    "file.close()   "
   ]
  },
  {
   "cell_type": "code",
   "execution_count": null,
   "metadata": {},
   "outputs": [],
   "source": []
  }
 ],
 "metadata": {
  "kernelspec": {
   "display_name": "Python 3",
   "language": "python",
   "name": "python3"
  },
  "language_info": {
   "codemirror_mode": {
    "name": "ipython",
    "version": 3
   },
   "file_extension": ".py",
   "mimetype": "text/x-python",
   "name": "python",
   "nbconvert_exporter": "python",
   "pygments_lexer": "ipython3",
   "version": "3.8.5"
  }
 },
 "nbformat": 4,
 "nbformat_minor": 4
}
