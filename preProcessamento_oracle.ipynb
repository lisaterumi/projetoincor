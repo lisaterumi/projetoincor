{
 "cells": [
  {
   "cell_type": "code",
   "execution_count": null,
   "metadata": {},
   "outputs": [],
   "source": [
    "import pandas as pd\n",
    "import re\n",
    "import numpy as np# read csv data\n",
    "import cx_Oracle\n",
    "\n",
    "connection = None\n",
    "\n",
    "username = 'XXXXXX'\n",
    "password = 'XXXXXX'\n",
    "dsn = '172.22.132.113/anonipac'\n",
    "port = 1521\n",
    "encoding = 'UTF-8'\n",
    "service_name= 'anonipac'\n",
    "table = 'PLN_HPC.PNL_TEXTO_ATENDIMENTO'"
   ]
  },
  {
   "cell_type": "code",
   "execution_count": 54,
   "metadata": {},
   "outputs": [],
   "source": [
    "def processarTexto(texto):\n",
    "    textoProcessado = texto.replace('#','')\n",
    "\n",
    "    #trocando tracinho do começo por nada\n",
    "    #textoProcessado =re.sub(\"^-{1,}\" , \"\", textoProcessado)\n",
    "    textoProcessado =re.sub(\"\\n-{1,}\" , \"\\n\", textoProcessado)\n",
    "    \n",
    "    textoProcessado = textoProcessado.replace('--> ',' - ')\n",
    "    textoProcessado = textoProcessado.replace('--','-')\n",
    "    \n",
    "    textoProcessado = textoProcessado.replace('\\n\\n','. ')\n",
    "    textoProcessado = textoProcessado.replace('\\n','; ')\n",
    "    textoProcessado = textoProcessado.replace('*',' ')\n",
    "    textoProcessado = textoProcessado.replace('<','')\n",
    "    textoProcessado = textoProcessado.replace('>','')\n",
    "    textoProcessado = textoProcessado.replace('  ',' ')\n",
    "    textoProcessado = textoProcessado.replace('. .','.')\n",
    "    textoProcessado = textoProcessado.replace(' .','.')\n",
    "    textoProcessado = textoProcessado.replace('..','.')\n",
    "    textoProcessado = textoProcessado.replace(':.',':')\n",
    "    textoProcessado = textoProcessado.replace(':;',':')\n",
    "    textoProcessado = textoProcessado.replace(': ;',':')\n",
    "    textoProcessado = textoProcessado.replace('.;','.')\n",
    "    textoProcessado = textoProcessado.replace('. ;','.')\n",
    "    textoProcessado = textoProcessado.replace(': .',':')\n",
    "    #textoProcessado = textoProcessado.replace('-',' ')\n",
    "    \n",
    "    textoProcessado = textoProcessado.replace('//',',')\n",
    "    textoProcessado = textoProcessado.replace('  ',' ')\n",
    "    textoProcessado = textoProcessado.replace(' ;',';')\n",
    "    textoProcessado = textoProcessado.replace(' ,',';')\n",
    "    \n",
    "    #trocando dois ou mais espaços em branco por um só\n",
    "    textoProcessado =re.sub(\"\\s\\s+\" , \" \", textoProcessado)\n",
    "\n",
    "    return textoProcessado\n",
    "    "
   ]
  },
  {
   "cell_type": "code",
   "execution_count": 55,
   "metadata": {},
   "outputs": [],
   "source": [
    "try:\n",
    "    connection = cx_Oracle.connect(\n",
    "        username,\n",
    "        password,\n",
    "        dsn,\n",
    "        encoding=encoding)\n",
    "\n",
    "    cur = connection.cursor()\n",
    "    # faz select de 50 em 50 até chegar em 160.000\n",
    "    cur.execute(\"select * from PLN_HPC.PNL_TEXTO_ATENDIMENTO OFFSET 10 ROWS FETCH NEXT 10 ROWS ONLY;\")\n",
    "    res = cur.fetchall()\n",
    "    \n",
    "    for deptno, dname, loc in cur:\n",
    "        print(\"campo1: \", deptno)\n",
    "        print(\"campo2: \", dname)\n",
    "        print(\"campo3:\", loc)\n",
    "        textoProcessado = processarTexto(texto)\n",
    "        comando = 'UPDATE PLN_HPC.PNL_TEXTO_ATENDIMENTO set textoProcessado = :textoProcessado where id = :id'\n",
    "        cur.execute(comando, [textoProcessado, str(id)])\n",
    "        # commit the change\n",
    "        connection.commit()\n",
    "except cx_Oracle.Error as error:\n",
    "    print(error)\n",
    "\n",
    "finally:\n",
    "    # release the connection\n",
    "    if connection:\n",
    "        connection.close()\n"
   ]
  },
  {
   "cell_type": "code",
   "execution_count": null,
   "metadata": {},
   "outputs": [],
   "source": []
  }
 ],
 "metadata": {
  "kernelspec": {
   "display_name": "Python 3",
   "language": "python",
   "name": "python3"
  },
  "language_info": {
   "codemirror_mode": {
    "name": "ipython",
    "version": 3
   },
   "file_extension": ".py",
   "mimetype": "text/x-python",
   "name": "python",
   "nbconvert_exporter": "python",
   "pygments_lexer": "ipython3",
   "version": "3.8.5"
  }
 },
 "nbformat": 4,
 "nbformat_minor": 4
}
